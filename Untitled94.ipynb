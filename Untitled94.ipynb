{
  "nbformat": 4,
  "nbformat_minor": 0,
  "metadata": {
    "colab": {
      "provenance": [],
      "authorship_tag": "ABX9TyOuvYHjMZvd+ahsZUhwWL04",
      "include_colab_link": true
    },
    "kernelspec": {
      "name": "python3",
      "display_name": "Python 3"
    },
    "language_info": {
      "name": "python"
    }
  },
  "cells": [
    {
      "cell_type": "markdown",
      "metadata": {
        "id": "view-in-github",
        "colab_type": "text"
      },
      "source": [
        "<a href=\"https://colab.research.google.com/github/Zainakhader/project2/blob/main/Untitled94.ipynb\" target=\"_parent\"><img src=\"https://colab.research.google.com/assets/colab-badge.svg\" alt=\"Open In Colab\"/></a>"
      ]
    },
    {
      "cell_type": "markdown",
      "source": [
        "# Project 4"
      ],
      "metadata": {
        "id": "Rj8L24Z0Oipe"
      }
    },
    {
      "cell_type": "markdown",
      "source": [
        "## Project 4 - Part 1"
      ],
      "metadata": {
        "id": "mnX7hYRtOier"
      }
    },
    {
      "cell_type": "code",
      "source": [],
      "metadata": {
        "id": "sQN700ZrPAhJ"
      },
      "execution_count": null,
      "outputs": []
    },
    {
      "cell_type": "markdown",
      "source": [
        "## Project 4 - Part 2"
      ],
      "metadata": {
        "id": "8y-jI4JzO4ND"
      }
    },
    {
      "cell_type": "markdown",
      "source": [
        "**​Task:**\n",
        "* Choose at least one feature engineering method to apply to the data and compare the models’  performance with and without engineering.\n",
        "** Some options include:\n",
        "*Apply PCA to get 3 principal components for the data. Concatenate/combine these PC’s with the original features (X_train, X_test data).\n",
        "*​Remember to only fit the PCA on the training data and use pca.transform(X_test) to get the PCs for the testing data.\n",
        "*Apply clustering, select the appropriate number of clusters, and use the clustering object to get predicted cluster labels for the training and test data. Concatenate/combine these clusters with the original features.\n",
        "*Remember to only fit KMeans on the training data and use kmeans.predict(X_test) to create cluster labels for the test data.\n",
        "*Create additional features by applying the feature engineering techniques demonstrated in the LP.\n",
        "** Fit and evaluate a model using your new features and compare it to your model from Part 1.\n",
        "* Apply at least one method of feature selection (filtering, embedded, wrapper) to your new features including engineered data.\n",
        "* Fit and evaluate a final model using the selected features. Compare it with previous models\n",
        "* Extract and visualize the top 10 features using permutation importance (from Intro to ML Week 4).\n",
        "*In a Markdown cell, comment on how these features compare to the model from Part 1. Are there any new features in the top 10?\n"
      ],
      "metadata": {
        "id": "e_dd2OHgPiH2"
      }
    },
    {
      "cell_type": "code",
      "source": [],
      "metadata": {
        "id": "r9XKLfjnPBDi"
      },
      "execution_count": null,
      "outputs": []
    },
    {
      "cell_type": "markdown",
      "source": [
        "## Project 4 - Part 3"
      ],
      "metadata": {
        "id": "Y_7efOhBO4ak"
      }
    },
    {
      "cell_type": "markdown",
      "source": [
        "**Task**:\n",
        "* ​Build a small neural network (with only 1 hidden layer)\n",
        "** Ensure the final layer is appropriate for your task (number of units and\n",
        "activation function).\n",
        "** Fit it for 50 epochs\n",
        "* Use the Early Stopping callback\n",
        "** Start with patience =5 monitoring val_accuracy.\n",
        "* Use a validation_split of .2\n",
        "* Save the history and visualize it.\n",
        "** Evaluate the model using sklearn evaluation metrics:\n",
        "* Confusion Matrix\n",
        "* Classification Report\n",
        "* You are welcome to use the custom evaluation functions\n",
        "** Tune at least 3 parameters with the Keras tuner:\n",
        "* Include a dropout layer and adjust the dropout rate.\n",
        "* Number of Units\n",
        "* Optimizer\n",
        "* Learning rates\n",
        "* Evaluate your best model on unseen test data\n",
        "\n",
        "\n",
        "\n",
        "\n",
        "\n",
        "\n",
        "\n",
        "\n",
        "\n",
        "\n"
      ],
      "metadata": {
        "id": "Vn7gedZ2QjT4"
      }
    },
    {
      "cell_type": "code",
      "source": [],
      "metadata": {
        "id": "COkERsipPBwl"
      },
      "execution_count": null,
      "outputs": []
    }
  ]
}